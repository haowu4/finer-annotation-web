{
 "cells": [
  {
   "cell_type": "code",
   "execution_count": 113,
   "metadata": {
    "collapsed": true
   },
   "outputs": [],
   "source": [
    "from collections import Counter, defaultdict, OrderedDict\n",
    "import json\n",
    "from statsmodels.stats.inter_rater import fleiss_kappa\n",
    "import matplotlib\n",
    "import numpy as np\n",
    "import matplotlib.pyplot as plt\n",
    "import pandas as pd\n",
    "%matplotlib inline  \n"
   ]
  },
  {
   "cell_type": "code",
   "execution_count": 311,
   "metadata": {
    "collapsed": false
   },
   "outputs": [],
   "source": [
    "class SimpleNamespace (object):\n",
    "    def __init__ (self, **kwargs):\n",
    "        self.__dict__.update(kwargs)\n",
    "    def __repr__ (self):\n",
    "        keys = sorted(self.__dict__)\n",
    "        items = (\"{}={!r}\".format(k, self.__dict__[k]) for k in keys)\n",
    "        return \"{}({})\".format(type(self).__name__, \", \".join(items))\n",
    "    def __eq__ (self, other):\n",
    "        return self.__dict__ == other.__dict__\n",
    "\n",
    "__ds = SimpleNamespace()\n",
    "\n",
    "    \n",
    "def get_file(file_id):\n",
    "    return \"/home/haowu4/codes/finer-annotation-web/analysis/gold_docs/%s.json\" % (file_id[2:].replace(\"/\", \"-\"))\n",
    "\n",
    "def load_example_list(type_name):    \n",
    "    captured = []\n",
    "    \n",
    "    for instance_, tc in annotations_per_instance.iteritems():\n",
    "        if tc[type_name] > 0:\n",
    "            did, sid, start, end = instance_.split(\"-\")\n",
    "            captured.append((did, int(sid), int(start), int(end)))\n",
    "    \n",
    "    return captured\n",
    "\n",
    "\n",
    "\n",
    "def load_text(example):\n",
    "#     print example\n",
    "    did, sid, start, end = example\n",
    "    with open(get_file(did)) as j_in:\n",
    "        doc = json.load(j_in)\n",
    "    sent = doc['sentences'][sid]\n",
    "    ret = ['<p style=\"font-size: 20px !important;\">']\n",
    "    for i, t in enumerate(sent[\"tokens\"]):\n",
    "        if i == start:\n",
    "            ret.append('<b style=\"color: #ff0000;\">')\n",
    "        ret.append(t)\n",
    "        if i == end-1:\n",
    "            ret.append(\"</b>\")\n",
    "    ret.append(\"</p>\")\n",
    "    return \" \".join(ret)\n",
    "\n",
    "\n",
    "def kao_of_type(typ):\n",
    "    mat = []\n",
    "    p_items = []\n",
    "    \n",
    "    for mention_id, anno in annotations_per_instance.iteritems():\n",
    "        total_count = anno[TOTAL_]\n",
    "        if total_count != 2:\n",
    "            continue\n",
    "        total_count = float(total_count)\n",
    "        yes_count = anno[typ]\n",
    "        no_count = total_count - yes_count\n",
    "        yes_count = float(yes_count)\n",
    "        no_count = float(no_count)\n",
    "        mat.append([yes_count, no_count])\n",
    "        \n",
    "        pi = (1/(total_count * (total_count - 1)))\n",
    "        \n",
    "    return fleiss_kappa(np.matrix(mat))"
   ]
  },
  {
   "cell_type": "code",
   "execution_count": 69,
   "metadata": {
    "collapsed": true
   },
   "outputs": [],
   "source": [
    "with open(\"/home/haowu4/codes/finer-annotation-web/analysis/dump1.json\") as _:\n",
    "    data = json.load(_)"
   ]
  },
  {
   "cell_type": "code",
   "execution_count": 79,
   "metadata": {
    "collapsed": false,
    "scrolled": false
   },
   "outputs": [],
   "source": [
    "type_counter = Counter()\n",
    "feedbacks = []\n",
    "\n",
    "annotations = defaultdict(list)\n",
    "annotations_per_instance = defaultdict(Counter)\n",
    "\n",
    "TOTAL_ = \"TOTAL\"\n",
    "\n",
    "for annotation in data:\n",
    "    ans = annotation[\"answer\"]\n",
    "    vs = json.loads(ans)\n",
    "    \n",
    "    fb = vs[\"feedBackText\"]\n",
    "    if len(fb) > 0:\n",
    "        feedbacks.append(fb)\n",
    "    del vs[\"feedBackText\"]\n",
    "    \n",
    "\n",
    "    \n",
    "    for k, v in vs.iteritems():\n",
    "        type_counter.update(v.split(\"-\"))\n",
    "        if annotations_per_instance[k][TOTAL_] < 2:\n",
    "            annotations_per_instance[k].update(v.split(\"-\") + [TOTAL_])\n",
    "        annotations[k].append(v)\n",
    "        \n",
    "example_size = {k:len(load_example_list(k)) for k in type_counter}"
   ]
  },
  {
   "cell_type": "code",
   "execution_count": 222,
   "metadata": {
    "collapsed": true
   },
   "outputs": [],
   "source": []
  },
  {
   "cell_type": "code",
   "execution_count": 80,
   "metadata": {
    "collapsed": false,
    "scrolled": false
   },
   "outputs": [
    {
     "data": {
      "text/plain": [
       "Counter({'TOTAL': 2,\n",
       "         u'location': 1,\n",
       "         u'location.city': 1,\n",
       "         u'person': 1,\n",
       "         u'person.politician': 1,\n",
       "         u'person.soldier': 1})"
      ]
     },
     "execution_count": 80,
     "metadata": {},
     "output_type": "execute_result"
    }
   ],
   "source": [
    "annotations_per_instance[\"./nw/wsj/15/wsj_1565.v4_gold_conll-3-21-22\"]"
   ]
  },
  {
   "cell_type": "code",
   "execution_count": 93,
   "metadata": {
    "collapsed": false
   },
   "outputs": [],
   "source": [
    "aggs = {k:kao_of_type(k) for k in type_counter if len(k) > 0}\n",
    "\n",
    "type_tao_count = []\n",
    "for rank, (t, tao) in enumerate(type_counter.most_common()):\n",
    "    if len(t) == 0:\n",
    "        continue\n",
    "    d = OrderedDict([\n",
    "            (\"label\", t),\n",
    "            (\"tao\", aggs[t]),\n",
    "            (\"count\", type_counter[t]),\n",
    "            (\"freq_rank\", rank)\n",
    "        ])\n",
    "    \n",
    "    type_tao_count.append(d)"
   ]
  },
  {
   "cell_type": "code",
   "execution_count": 125,
   "metadata": {
    "collapsed": false,
    "scrolled": false
   },
   "outputs": [
    {
     "name": "stderr",
     "output_type": "stream",
     "text": [
      "/home/haowu4/anaconda3/envs/dataless_finer/lib/python2.7/site-packages/ipykernel/__main__.py:9: FutureWarning: sort(columns=....) is deprecated, use sort_values(by=.....)\n"
     ]
    },
    {
     "data": {
      "text/html": [
       "<div>\n",
       "<table border=\"1\" class=\"dataframe\">\n",
       "  <thead>\n",
       "    <tr style=\"text-align: right;\">\n",
       "      <th></th>\n",
       "      <th>label</th>\n",
       "      <th>tao</th>\n",
       "      <th>count</th>\n",
       "      <th>freq_rank</th>\n",
       "    </tr>\n",
       "  </thead>\n",
       "  <tbody>\n",
       "    <tr>\n",
       "      <th>0</th>\n",
       "      <td>building.hotel</td>\n",
       "      <td>1.000000</td>\n",
       "      <td>2</td>\n",
       "      <td>75</td>\n",
       "    </tr>\n",
       "    <tr>\n",
       "      <th>1</th>\n",
       "      <td>person.religious_leader</td>\n",
       "      <td>1.000000</td>\n",
       "      <td>2</td>\n",
       "      <td>76</td>\n",
       "    </tr>\n",
       "    <tr>\n",
       "      <th>2</th>\n",
       "      <td>person.athlete</td>\n",
       "      <td>1.000000</td>\n",
       "      <td>12</td>\n",
       "      <td>41</td>\n",
       "    </tr>\n",
       "    <tr>\n",
       "      <th>3</th>\n",
       "      <td>finance.currency</td>\n",
       "      <td>0.891487</td>\n",
       "      <td>727</td>\n",
       "      <td>7</td>\n",
       "    </tr>\n",
       "    <tr>\n",
       "      <th>4</th>\n",
       "      <td>event.natural_disaster</td>\n",
       "      <td>0.888793</td>\n",
       "      <td>9</td>\n",
       "      <td>43</td>\n",
       "    </tr>\n",
       "    <tr>\n",
       "      <th>5</th>\n",
       "      <td>medicine.drug</td>\n",
       "      <td>0.857047</td>\n",
       "      <td>7</td>\n",
       "      <td>50</td>\n",
       "    </tr>\n",
       "    <tr>\n",
       "      <th>6</th>\n",
       "      <td>location</td>\n",
       "      <td>0.855044</td>\n",
       "      <td>1981</td>\n",
       "      <td>2</td>\n",
       "    </tr>\n",
       "    <tr>\n",
       "      <th>7</th>\n",
       "      <td>time</td>\n",
       "      <td>0.827059</td>\n",
       "      <td>1405</td>\n",
       "      <td>4</td>\n",
       "    </tr>\n",
       "    <tr>\n",
       "      <th>8</th>\n",
       "      <td>person.doctor</td>\n",
       "      <td>0.817796</td>\n",
       "      <td>22</td>\n",
       "      <td>32</td>\n",
       "    </tr>\n",
       "    <tr>\n",
       "      <th>9</th>\n",
       "      <td>person</td>\n",
       "      <td>0.788717</td>\n",
       "      <td>1214</td>\n",
       "      <td>5</td>\n",
       "    </tr>\n",
       "    <tr>\n",
       "      <th>10</th>\n",
       "      <td>organization</td>\n",
       "      <td>0.786663</td>\n",
       "      <td>2519</td>\n",
       "      <td>1</td>\n",
       "    </tr>\n",
       "    <tr>\n",
       "      <th>11</th>\n",
       "      <td>product.car</td>\n",
       "      <td>0.768362</td>\n",
       "      <td>39</td>\n",
       "      <td>25</td>\n",
       "    </tr>\n",
       "    <tr>\n",
       "      <th>12</th>\n",
       "      <td>medicine</td>\n",
       "      <td>0.749808</td>\n",
       "      <td>8</td>\n",
       "      <td>45</td>\n",
       "    </tr>\n",
       "    <tr>\n",
       "      <th>13</th>\n",
       "      <td>person.politician</td>\n",
       "      <td>0.722618</td>\n",
       "      <td>274</td>\n",
       "      <td>10</td>\n",
       "    </tr>\n",
       "    <tr>\n",
       "      <th>14</th>\n",
       "      <td>news_agency</td>\n",
       "      <td>0.716236</td>\n",
       "      <td>172</td>\n",
       "      <td>13</td>\n",
       "    </tr>\n",
       "    <tr>\n",
       "      <th>15</th>\n",
       "      <td>location.country</td>\n",
       "      <td>0.709614</td>\n",
       "      <td>946</td>\n",
       "      <td>6</td>\n",
       "    </tr>\n",
       "    <tr>\n",
       "      <th>16</th>\n",
       "      <td>location.city</td>\n",
       "      <td>0.683841</td>\n",
       "      <td>628</td>\n",
       "      <td>8</td>\n",
       "    </tr>\n",
       "    <tr>\n",
       "      <th>17</th>\n",
       "      <td>building.airport</td>\n",
       "      <td>0.666570</td>\n",
       "      <td>3</td>\n",
       "      <td>65</td>\n",
       "    </tr>\n",
       "    <tr>\n",
       "      <th>18</th>\n",
       "      <td>music</td>\n",
       "      <td>0.666570</td>\n",
       "      <td>3</td>\n",
       "      <td>67</td>\n",
       "    </tr>\n",
       "    <tr>\n",
       "      <th>19</th>\n",
       "      <td>play</td>\n",
       "      <td>0.666570</td>\n",
       "      <td>3</td>\n",
       "      <td>69</td>\n",
       "    </tr>\n",
       "    <tr>\n",
       "      <th>20</th>\n",
       "      <td>organization.company</td>\n",
       "      <td>0.651594</td>\n",
       "      <td>1495</td>\n",
       "      <td>3</td>\n",
       "    </tr>\n",
       "    <tr>\n",
       "      <th>21</th>\n",
       "      <td>organization.sports_league</td>\n",
       "      <td>0.614903</td>\n",
       "      <td>13</td>\n",
       "      <td>40</td>\n",
       "    </tr>\n",
       "    <tr>\n",
       "      <th>22</th>\n",
       "      <td>product.computer</td>\n",
       "      <td>0.571140</td>\n",
       "      <td>7</td>\n",
       "      <td>47</td>\n",
       "    </tr>\n",
       "    <tr>\n",
       "      <th>23</th>\n",
       "      <td>No_Type</td>\n",
       "      <td>0.561973</td>\n",
       "      <td>3281</td>\n",
       "      <td>0</td>\n",
       "    </tr>\n",
       "    <tr>\n",
       "      <th>24</th>\n",
       "      <td>language</td>\n",
       "      <td>0.561149</td>\n",
       "      <td>33</td>\n",
       "      <td>30</td>\n",
       "    </tr>\n",
       "    <tr>\n",
       "      <th>25</th>\n",
       "      <td>written_work</td>\n",
       "      <td>0.554011</td>\n",
       "      <td>36</td>\n",
       "      <td>27</td>\n",
       "    </tr>\n",
       "    <tr>\n",
       "      <th>26</th>\n",
       "      <td>event</td>\n",
       "      <td>0.528390</td>\n",
       "      <td>52</td>\n",
       "      <td>22</td>\n",
       "    </tr>\n",
       "    <tr>\n",
       "      <th>27</th>\n",
       "      <td>location.body_of_water</td>\n",
       "      <td>0.525449</td>\n",
       "      <td>19</td>\n",
       "      <td>34</td>\n",
       "    </tr>\n",
       "    <tr>\n",
       "      <th>28</th>\n",
       "      <td>military</td>\n",
       "      <td>0.509600</td>\n",
       "      <td>43</td>\n",
       "      <td>23</td>\n",
       "    </tr>\n",
       "    <tr>\n",
       "      <th>29</th>\n",
       "      <td>work</td>\n",
       "      <td>0.503653</td>\n",
       "      <td>71</td>\n",
       "      <td>18</td>\n",
       "    </tr>\n",
       "    <tr>\n",
       "      <th>30</th>\n",
       "      <td>ethnicity</td>\n",
       "      <td>0.500794</td>\n",
       "      <td>197</td>\n",
       "      <td>12</td>\n",
       "    </tr>\n",
       "    <tr>\n",
       "      <th>31</th>\n",
       "      <td>organization.sports_team</td>\n",
       "      <td>0.499808</td>\n",
       "      <td>4</td>\n",
       "      <td>59</td>\n",
       "    </tr>\n",
       "    <tr>\n",
       "      <th>32</th>\n",
       "      <td>law</td>\n",
       "      <td>0.488804</td>\n",
       "      <td>61</td>\n",
       "      <td>21</td>\n",
       "    </tr>\n",
       "    <tr>\n",
       "      <th>33</th>\n",
       "      <td>government_agency</td>\n",
       "      <td>0.485553</td>\n",
       "      <td>294</td>\n",
       "      <td>9</td>\n",
       "    </tr>\n",
       "    <tr>\n",
       "      <th>34</th>\n",
       "      <td>product</td>\n",
       "      <td>0.460655</td>\n",
       "      <td>86</td>\n",
       "      <td>16</td>\n",
       "    </tr>\n",
       "    <tr>\n",
       "      <th>35</th>\n",
       "      <td>organization.airline</td>\n",
       "      <td>0.460189</td>\n",
       "      <td>27</td>\n",
       "      <td>31</td>\n",
       "    </tr>\n",
       "    <tr>\n",
       "      <th>36</th>\n",
       "      <td>person.author</td>\n",
       "      <td>0.412599</td>\n",
       "      <td>73</td>\n",
       "      <td>17</td>\n",
       "    </tr>\n",
       "    <tr>\n",
       "      <th>37</th>\n",
       "      <td>park</td>\n",
       "      <td>0.399711</td>\n",
       "      <td>5</td>\n",
       "      <td>57</td>\n",
       "    </tr>\n",
       "    <tr>\n",
       "      <th>38</th>\n",
       "      <td>education.department</td>\n",
       "      <td>0.361610</td>\n",
       "      <td>34</td>\n",
       "      <td>29</td>\n",
       "    </tr>\n",
       "    <tr>\n",
       "      <th>39</th>\n",
       "      <td>event.sports_event</td>\n",
       "      <td>0.332948</td>\n",
       "      <td>6</td>\n",
       "      <td>54</td>\n",
       "    </tr>\n",
       "    <tr>\n",
       "      <th>40</th>\n",
       "      <td>location.province</td>\n",
       "      <td>0.327513</td>\n",
       "      <td>90</td>\n",
       "      <td>15</td>\n",
       "    </tr>\n",
       "    <tr>\n",
       "      <th>41</th>\n",
       "      <td>award</td>\n",
       "      <td>0.314537</td>\n",
       "      <td>19</td>\n",
       "      <td>35</td>\n",
       "    </tr>\n",
       "    <tr>\n",
       "      <th>42</th>\n",
       "      <td>organization.educational_institution</td>\n",
       "      <td>0.297297</td>\n",
       "      <td>42</td>\n",
       "      <td>24</td>\n",
       "    </tr>\n",
       "    <tr>\n",
       "      <th>43</th>\n",
       "      <td>art</td>\n",
       "      <td>0.285233</td>\n",
       "      <td>7</td>\n",
       "      <td>48</td>\n",
       "    </tr>\n",
       "    <tr>\n",
       "      <th>44</th>\n",
       "      <td>geography.island</td>\n",
       "      <td>0.248844</td>\n",
       "      <td>16</td>\n",
       "      <td>36</td>\n",
       "    </tr>\n",
       "    <tr>\n",
       "      <th>45</th>\n",
       "      <td>building</td>\n",
       "      <td>0.225966</td>\n",
       "      <td>35</td>\n",
       "      <td>28</td>\n",
       "    </tr>\n",
       "    <tr>\n",
       "      <th>46</th>\n",
       "      <td>government.political_party</td>\n",
       "      <td>0.225966</td>\n",
       "      <td>37</td>\n",
       "      <td>26</td>\n",
       "    </tr>\n",
       "    <tr>\n",
       "      <th>47</th>\n",
       "      <td>person.soldier</td>\n",
       "      <td>0.221548</td>\n",
       "      <td>9</td>\n",
       "      <td>44</td>\n",
       "    </tr>\n",
       "    <tr>\n",
       "      <th>48</th>\n",
       "      <td>finance.stock_exchange</td>\n",
       "      <td>0.197574</td>\n",
       "      <td>70</td>\n",
       "      <td>19</td>\n",
       "    </tr>\n",
       "    <tr>\n",
       "      <th>49</th>\n",
       "      <td>newspaper</td>\n",
       "      <td>0.188838</td>\n",
       "      <td>21</td>\n",
       "      <td>33</td>\n",
       "    </tr>\n",
       "    <tr>\n",
       "      <th>50</th>\n",
       "      <td>government.government</td>\n",
       "      <td>0.164119</td>\n",
       "      <td>235</td>\n",
       "      <td>11</td>\n",
       "    </tr>\n",
       "    <tr>\n",
       "      <th>51</th>\n",
       "      <td>geography</td>\n",
       "      <td>0.148523</td>\n",
       "      <td>66</td>\n",
       "      <td>20</td>\n",
       "    </tr>\n",
       "    <tr>\n",
       "      <th>52</th>\n",
       "      <td>person.artist</td>\n",
       "      <td>0.141702</td>\n",
       "      <td>14</td>\n",
       "      <td>38</td>\n",
       "    </tr>\n",
       "    <tr>\n",
       "      <th>53</th>\n",
       "      <td>location.county</td>\n",
       "      <td>0.030678</td>\n",
       "      <td>100</td>\n",
       "      <td>14</td>\n",
       "    </tr>\n",
       "    <tr>\n",
       "      <th>54</th>\n",
       "      <td>location.cemetery</td>\n",
       "      <td>-0.000096</td>\n",
       "      <td>1</td>\n",
       "      <td>80</td>\n",
       "    </tr>\n",
       "    <tr>\n",
       "      <th>55</th>\n",
       "      <td>product.instrument</td>\n",
       "      <td>-0.000096</td>\n",
       "      <td>1</td>\n",
       "      <td>81</td>\n",
       "    </tr>\n",
       "    <tr>\n",
       "      <th>56</th>\n",
       "      <td>location.bridge</td>\n",
       "      <td>-0.000096</td>\n",
       "      <td>1</td>\n",
       "      <td>82</td>\n",
       "    </tr>\n",
       "    <tr>\n",
       "      <th>57</th>\n",
       "      <td>building.dam</td>\n",
       "      <td>-0.000096</td>\n",
       "      <td>1</td>\n",
       "      <td>83</td>\n",
       "    </tr>\n",
       "    <tr>\n",
       "      <th>58</th>\n",
       "      <td>geography.glacier</td>\n",
       "      <td>-0.000096</td>\n",
       "      <td>1</td>\n",
       "      <td>84</td>\n",
       "    </tr>\n",
       "    <tr>\n",
       "      <th>59</th>\n",
       "      <td>building.theater</td>\n",
       "      <td>-0.000096</td>\n",
       "      <td>1</td>\n",
       "      <td>85</td>\n",
       "    </tr>\n",
       "    <tr>\n",
       "      <th>60</th>\n",
       "      <td>art.film</td>\n",
       "      <td>-0.000096</td>\n",
       "      <td>1</td>\n",
       "      <td>86</td>\n",
       "    </tr>\n",
       "    <tr>\n",
       "      <th>61</th>\n",
       "      <td>product.ship</td>\n",
       "      <td>-0.000096</td>\n",
       "      <td>1</td>\n",
       "      <td>87</td>\n",
       "    </tr>\n",
       "    <tr>\n",
       "      <th>62</th>\n",
       "      <td>event.election</td>\n",
       "      <td>-0.000096</td>\n",
       "      <td>1</td>\n",
       "      <td>88</td>\n",
       "    </tr>\n",
       "    <tr>\n",
       "      <th>63</th>\n",
       "      <td>transportation.road</td>\n",
       "      <td>-0.000192</td>\n",
       "      <td>2</td>\n",
       "      <td>71</td>\n",
       "    </tr>\n",
       "    <tr>\n",
       "      <th>64</th>\n",
       "      <td>food</td>\n",
       "      <td>-0.000192</td>\n",
       "      <td>2</td>\n",
       "      <td>72</td>\n",
       "    </tr>\n",
       "    <tr>\n",
       "      <th>65</th>\n",
       "      <td>person.architect</td>\n",
       "      <td>-0.000192</td>\n",
       "      <td>2</td>\n",
       "      <td>73</td>\n",
       "    </tr>\n",
       "    <tr>\n",
       "      <th>66</th>\n",
       "      <td>person.terrorist</td>\n",
       "      <td>-0.000192</td>\n",
       "      <td>2</td>\n",
       "      <td>77</td>\n",
       "    </tr>\n",
       "    <tr>\n",
       "      <th>67</th>\n",
       "      <td>event.military_conflict</td>\n",
       "      <td>-0.000192</td>\n",
       "      <td>2</td>\n",
       "      <td>78</td>\n",
       "    </tr>\n",
       "    <tr>\n",
       "      <th>68</th>\n",
       "      <td>livingthing.animal</td>\n",
       "      <td>-0.000289</td>\n",
       "      <td>3</td>\n",
       "      <td>64</td>\n",
       "    </tr>\n",
       "    <tr>\n",
       "      <th>69</th>\n",
       "      <td>building.power_station</td>\n",
       "      <td>-0.000289</td>\n",
       "      <td>3</td>\n",
       "      <td>66</td>\n",
       "    </tr>\n",
       "    <tr>\n",
       "      <th>70</th>\n",
       "      <td>product.weapon</td>\n",
       "      <td>-0.000289</td>\n",
       "      <td>3</td>\n",
       "      <td>68</td>\n",
       "    </tr>\n",
       "    <tr>\n",
       "      <th>71</th>\n",
       "      <td>astral_body</td>\n",
       "      <td>-0.000289</td>\n",
       "      <td>3</td>\n",
       "      <td>70</td>\n",
       "    </tr>\n",
       "    <tr>\n",
       "      <th>72</th>\n",
       "      <td>organization.fraternity_sorority</td>\n",
       "      <td>-0.000385</td>\n",
       "      <td>4</td>\n",
       "      <td>58</td>\n",
       "    </tr>\n",
       "    <tr>\n",
       "      <th>73</th>\n",
       "      <td>organization.terrorist_organization</td>\n",
       "      <td>-0.000385</td>\n",
       "      <td>4</td>\n",
       "      <td>60</td>\n",
       "    </tr>\n",
       "    <tr>\n",
       "      <th>74</th>\n",
       "      <td>software</td>\n",
       "      <td>-0.000385</td>\n",
       "      <td>4</td>\n",
       "      <td>61</td>\n",
       "    </tr>\n",
       "    <tr>\n",
       "      <th>75</th>\n",
       "      <td>product.engine_device</td>\n",
       "      <td>-0.000385</td>\n",
       "      <td>4</td>\n",
       "      <td>62</td>\n",
       "    </tr>\n",
       "    <tr>\n",
       "      <th>76</th>\n",
       "      <td>broadcast_program</td>\n",
       "      <td>-0.000385</td>\n",
       "      <td>4</td>\n",
       "      <td>63</td>\n",
       "    </tr>\n",
       "    <tr>\n",
       "      <th>77</th>\n",
       "      <td>geography.mountain</td>\n",
       "      <td>-0.000481</td>\n",
       "      <td>5</td>\n",
       "      <td>55</td>\n",
       "    </tr>\n",
       "    <tr>\n",
       "      <th>78</th>\n",
       "      <td>product.airplane</td>\n",
       "      <td>-0.000481</td>\n",
       "      <td>5</td>\n",
       "      <td>56</td>\n",
       "    </tr>\n",
       "    <tr>\n",
       "      <th>79</th>\n",
       "      <td>living_thing</td>\n",
       "      <td>-0.000577</td>\n",
       "      <td>6</td>\n",
       "      <td>51</td>\n",
       "    </tr>\n",
       "    <tr>\n",
       "      <th>80</th>\n",
       "      <td>transit</td>\n",
       "      <td>-0.000577</td>\n",
       "      <td>6</td>\n",
       "      <td>52</td>\n",
       "    </tr>\n",
       "    <tr>\n",
       "      <th>81</th>\n",
       "      <td>person.monarch</td>\n",
       "      <td>-0.000577</td>\n",
       "      <td>6</td>\n",
       "      <td>53</td>\n",
       "    </tr>\n",
       "    <tr>\n",
       "      <th>82</th>\n",
       "      <td>person.director</td>\n",
       "      <td>-0.000674</td>\n",
       "      <td>7</td>\n",
       "      <td>49</td>\n",
       "    </tr>\n",
       "    <tr>\n",
       "      <th>83</th>\n",
       "      <td>metropolitan_transit.transit_line</td>\n",
       "      <td>-0.000770</td>\n",
       "      <td>8</td>\n",
       "      <td>46</td>\n",
       "    </tr>\n",
       "    <tr>\n",
       "      <th>84</th>\n",
       "      <td>person.engineer</td>\n",
       "      <td>-0.000866</td>\n",
       "      <td>9</td>\n",
       "      <td>42</td>\n",
       "    </tr>\n",
       "    <tr>\n",
       "      <th>85</th>\n",
       "      <td>person.coach</td>\n",
       "      <td>-0.001252</td>\n",
       "      <td>13</td>\n",
       "      <td>39</td>\n",
       "    </tr>\n",
       "    <tr>\n",
       "      <th>86</th>\n",
       "      <td>person.actor</td>\n",
       "      <td>-0.001445</td>\n",
       "      <td>15</td>\n",
       "      <td>37</td>\n",
       "    </tr>\n",
       "    <tr>\n",
       "      <th>87</th>\n",
       "      <td>event.protest</td>\n",
       "      <td>NaN</td>\n",
       "      <td>2</td>\n",
       "      <td>74</td>\n",
       "    </tr>\n",
       "  </tbody>\n",
       "</table>\n",
       "</div>"
      ],
      "text/plain": [
       "                                   label       tao  count  freq_rank\n",
       "0                         building.hotel  1.000000      2         75\n",
       "1                person.religious_leader  1.000000      2         76\n",
       "2                         person.athlete  1.000000     12         41\n",
       "3                       finance.currency  0.891487    727          7\n",
       "4                 event.natural_disaster  0.888793      9         43\n",
       "5                          medicine.drug  0.857047      7         50\n",
       "6                               location  0.855044   1981          2\n",
       "7                                   time  0.827059   1405          4\n",
       "8                          person.doctor  0.817796     22         32\n",
       "9                                 person  0.788717   1214          5\n",
       "10                          organization  0.786663   2519          1\n",
       "11                           product.car  0.768362     39         25\n",
       "12                              medicine  0.749808      8         45\n",
       "13                     person.politician  0.722618    274         10\n",
       "14                           news_agency  0.716236    172         13\n",
       "15                      location.country  0.709614    946          6\n",
       "16                         location.city  0.683841    628          8\n",
       "17                      building.airport  0.666570      3         65\n",
       "18                                 music  0.666570      3         67\n",
       "19                                  play  0.666570      3         69\n",
       "20                  organization.company  0.651594   1495          3\n",
       "21            organization.sports_league  0.614903     13         40\n",
       "22                      product.computer  0.571140      7         47\n",
       "23                               No_Type  0.561973   3281          0\n",
       "24                              language  0.561149     33         30\n",
       "25                          written_work  0.554011     36         27\n",
       "26                                 event  0.528390     52         22\n",
       "27                location.body_of_water  0.525449     19         34\n",
       "28                              military  0.509600     43         23\n",
       "29                                  work  0.503653     71         18\n",
       "30                             ethnicity  0.500794    197         12\n",
       "31              organization.sports_team  0.499808      4         59\n",
       "32                                   law  0.488804     61         21\n",
       "33                     government_agency  0.485553    294          9\n",
       "34                               product  0.460655     86         16\n",
       "35                  organization.airline  0.460189     27         31\n",
       "36                         person.author  0.412599     73         17\n",
       "37                                  park  0.399711      5         57\n",
       "38                  education.department  0.361610     34         29\n",
       "39                    event.sports_event  0.332948      6         54\n",
       "40                     location.province  0.327513     90         15\n",
       "41                                 award  0.314537     19         35\n",
       "42  organization.educational_institution  0.297297     42         24\n",
       "43                                   art  0.285233      7         48\n",
       "44                      geography.island  0.248844     16         36\n",
       "45                              building  0.225966     35         28\n",
       "46            government.political_party  0.225966     37         26\n",
       "47                        person.soldier  0.221548      9         44\n",
       "48                finance.stock_exchange  0.197574     70         19\n",
       "49                             newspaper  0.188838     21         33\n",
       "50                 government.government  0.164119    235         11\n",
       "51                             geography  0.148523     66         20\n",
       "52                         person.artist  0.141702     14         38\n",
       "53                       location.county  0.030678    100         14\n",
       "54                     location.cemetery -0.000096      1         80\n",
       "55                    product.instrument -0.000096      1         81\n",
       "56                       location.bridge -0.000096      1         82\n",
       "57                          building.dam -0.000096      1         83\n",
       "58                     geography.glacier -0.000096      1         84\n",
       "59                      building.theater -0.000096      1         85\n",
       "60                              art.film -0.000096      1         86\n",
       "61                          product.ship -0.000096      1         87\n",
       "62                        event.election -0.000096      1         88\n",
       "63                   transportation.road -0.000192      2         71\n",
       "64                                  food -0.000192      2         72\n",
       "65                      person.architect -0.000192      2         73\n",
       "66                      person.terrorist -0.000192      2         77\n",
       "67               event.military_conflict -0.000192      2         78\n",
       "68                    livingthing.animal -0.000289      3         64\n",
       "69                building.power_station -0.000289      3         66\n",
       "70                        product.weapon -0.000289      3         68\n",
       "71                           astral_body -0.000289      3         70\n",
       "72      organization.fraternity_sorority -0.000385      4         58\n",
       "73   organization.terrorist_organization -0.000385      4         60\n",
       "74                              software -0.000385      4         61\n",
       "75                 product.engine_device -0.000385      4         62\n",
       "76                     broadcast_program -0.000385      4         63\n",
       "77                    geography.mountain -0.000481      5         55\n",
       "78                      product.airplane -0.000481      5         56\n",
       "79                          living_thing -0.000577      6         51\n",
       "80                               transit -0.000577      6         52\n",
       "81                        person.monarch -0.000577      6         53\n",
       "82                       person.director -0.000674      7         49\n",
       "83     metropolitan_transit.transit_line -0.000770      8         46\n",
       "84                       person.engineer -0.000866      9         42\n",
       "85                          person.coach -0.001252     13         39\n",
       "86                          person.actor -0.001445     15         37\n",
       "87                         event.protest       NaN      2         74"
      ]
     },
     "execution_count": 125,
     "metadata": {},
     "output_type": "execute_result"
    }
   ],
   "source": [
    "# def print_full(x):\n",
    "#     pd.set_option('display.max_rows', len(x))    \n",
    "#     pd.reset_option('display.max_rows')\n",
    "#     return x\n",
    "pd.options.display.max_rows = 999\n",
    "df = pd.DataFrame.from_dict(type_tao_count)\n",
    "\n",
    "# print_full(df)\n",
    "df.sort([\"tao\", \"count\"], ascending=[False, True]).reset_index(drop=True)\n"
   ]
  },
  {
   "cell_type": "code",
   "execution_count": 126,
   "metadata": {
    "collapsed": false
   },
   "outputs": [
    {
     "data": {
      "text/plain": [
       "<matplotlib.axes._subplots.AxesSubplot at 0x7f2f55df3190>"
      ]
     },
     "execution_count": 126,
     "metadata": {},
     "output_type": "execute_result"
    },
    {
     "data": {
      "image/png": "[encoded data removed]",
      "text/plain": [
       "<matplotlib.figure.Figure at 0x7f2f55d13850>"
      ]
     },
     "metadata": {},
     "output_type": "display_data"
    }
   ],
   "source": [
    "df.plot(kind=\"scatter\", x=\"freq_rank\", y = \"tao\")"
   ]
  },
  {
   "cell_type": "code",
   "execution_count": 309,
   "metadata": {
    "collapsed": false
   },
   "outputs": [],
   "source": [
    "from ipywidgets import widgets, interact\n",
    "from IPython.display import display\n",
    "\n",
    "\"\"\"\n",
    "    Defining widgets\n",
    "\"\"\"\n",
    "_doc_selection = widgets.IntSlider(\n",
    "    value=0,\n",
    "    min=0,\n",
    "    max=0,\n",
    "    step=1,\n",
    "    description='Test:',\n",
    "    disabled=False,\n",
    "    continuous_update=False,\n",
    "    orientation='horizontal',\n",
    "    readout=True,\n",
    "    readout_format='i',\n",
    "    slider_color='white'\n",
    ")\n",
    "\n",
    "_type_selection = widgets.Select(\n",
    "    options= sorted([\"%s-%d\" % (x, example_size[x]) for x in type_counter.keys() if len(x) > 0 and example_size[x] > 0]),\n",
    "#     value='OSX',\n",
    "    description='Type:',\n",
    "    disabled=False\n",
    ")\n",
    "\n",
    "_output = widgets.HTML(\n",
    "    value=\"No doc to show\",\n",
    "    placeholder='Some HTML',\n",
    "    description='Some HTML',\n",
    "    disabled=False\n",
    ")\n",
    "\n",
    "\"\"\"\n",
    "    Defining widgets callbacks\n",
    "\"\"\"\n",
    "__ds.all_possible_example = []\n",
    "\n",
    "def render_example(example):\n",
    "    html_ = load_text(example)\n",
    "    _output.value = html_\n",
    "    \n",
    "def on_type_selection_change(e):\n",
    "    __ds.current_type = _type_selection.value.split(\"-\")[0]\n",
    "    all_possible_example = load_example_list(__ds.current_type)\n",
    "#     print(len(all_possible_example))\n",
    "#     print(__ds.current_type)\n",
    "    _doc_selection.value = 0\n",
    "    _doc_selection.min = 0\n",
    "    _doc_selection.max = len(all_possible_example) - 1\n",
    "    __ds.all_possible_example = all_possible_example\n",
    "    \n",
    "    if len(all_possible_example) > 0:        \n",
    "        render_example(all_possible_example[0])\n",
    "    else:\n",
    "        print_output.value(\"No doc to show\")\n",
    "\n",
    "\n",
    "def on_doc_selection_change(e):\n",
    "    did = _doc_selection.value\n",
    "    try:\n",
    "        example = __ds.all_possible_example[did]\n",
    "        render_example(example)\n",
    "    except Exception as e:\n",
    "        print(\"Something wrong...\")\n",
    "        print(e)\n",
    "    \n",
    "        \n",
    "_type_selection.observe(on_type_selection_change)\n",
    "_doc_selection.observe(on_doc_selection_change)"
   ]
  },
  {
   "cell_type": "code",
   "execution_count": 310,
   "metadata": {
    "collapsed": false
   },
   "outputs": [
    {
     "name": "stdout",
     "output_type": "stream",
     "text": [
      "Something wrong...\n",
      "list index out of range\n"
     ]
    }
   ],
   "source": [
    "display(_type_selection)\n",
    "display(_doc_selection)\n",
    "display(_output)"
   ]
  },
  {
   "cell_type": "code",
   "execution_count": null,
   "metadata": {
    "collapsed": true
   },
   "outputs": [],
   "source": []
  }
 ],
 "metadata": {
  "anaconda-cloud": {},
  "kernelspec": {
   "display_name": "Python [conda env:dataless_finer]",
   "language": "python",
   "name": "conda-env-dataless_finer-py"
  },
  "language_info": {
   "codemirror_mode": {
    "name": "ipython",
    "version": 2
   },
   "file_extension": ".py",
   "mimetype": "text/x-python",
   "name": "python",
   "nbconvert_exporter": "python",
   "pygments_lexer": "ipython2",
   "version": "2.7.13"
  },
  "widgets": {
   "state": {
    "05634976a1b64cd296d7f0208157119b": {
     "views": [
      {
       "cell_index": 16
      }
     ]
    },
    "0e5f991b3a7442fea6085b98d2147750": {
     "views": [
      {
       "cell_index": 15
      }
     ]
    },
    "158ab1cbfe7e48e89462eb7187d41313": {
     "views": [
      {
       "cell_index": 13
      }
     ]
    },
    "1fd1d9dc154b4b73a7430d72c8ad4ec0": {
     "views": [
      {
       "cell_index": 15
      }
     ]
    },
    "25931e3fc8fd40cfa0297001efc109a7": {
     "views": [
      {
       "cell_index": 15
      }
     ]
    },
    "2c8a6e87c63749e48fa42077f12b9b5e": {
     "views": [
      {
       "cell_index": 13
      }
     ]
    },
    "3757ebbc852048f6a326e64b874e3594": {
     "views": [
      {
       "cell_index": 16
      },
      {
       "cell_index": 13
      }
     ]
    },
    "3d7d9f25d33944e486f8ad4c920448ac": {
     "views": [
      {
       "cell_index": 13
      }
     ]
    },
    "48f155b4c704422ba2092263b43f06e6": {
     "views": [
      {
       "cell_index": 13
      }
     ]
    },
    "50e7b9b821144b0dac549b6bf6532df4": {
     "views": [
      {
       "cell_index": 13
      }
     ]
    },
    "6b824d9f49854723b4667f5e4659eddf": {
     "views": [
      {
       "cell_index": 13
      },
      {
       "cell_index": 13
      }
     ]
    },
    "91f00dfc07e5413b80054b6ade5461bb": {
     "views": [
      {
       "cell_index": 15
      }
     ]
    },
    "99fc29ae11534a1cac71269248ff47c9": {
     "views": [
      {
       "cell_index": 13
      }
     ]
    },
    "9b9783edc49d46b699daf5b262d5e1bc": {
     "views": [
      {
       "cell_index": 13
      }
     ]
    },
    "a6aeb7b92210417a86903234d71d7d70": {
     "views": [
      {
       "cell_index": 13
      }
     ]
    },
    "b23eefc215574cc6bb62414e36142c69": {
     "views": [
      {
       "cell_index": 16
      }
     ]
    },
    "bba6e8421ee64f518157130dd6d68d02": {
     "views": [
      {
       "cell_index": 16
      }
     ]
    },
    "c5432a1badbf41ee9bb7102f433f0287": {
     "views": [
      {
       "cell_index": 16
      }
     ]
    },
    "ca37462337f74ec1bd0d2558e65858c6": {
     "views": [
      {
       "cell_index": 16
      }
     ]
    },
    "d8d61c1a5c794b39918989434d3fbc37": {
     "views": [
      {
       "cell_index": 15
      }
     ]
    },
    "db17aa6fb049426aa8bc4f160b82a757": {
     "views": [
      {
       "cell_index": 13
      }
     ]
    },
    "e69e7e2dd7a24cbab450d342ba1e268d": {
     "views": [
      {
       "cell_index": 13
      }
     ]
    },
    "e6b9bbf824b04e3d8815d5a7ee000252": {
     "views": [
      {
       "cell_index": 15
      }
     ]
    },
    "f0d8bf77f55d46b5aad9ac410e8b30f9": {
     "views": [
      {
       "cell_index": 13
      }
     ]
    },
    "f27a20eb1ed949a492c22a58bef5fcc5": {
     "views": [
      {
       "cell_index": 16
      }
     ]
    },
    "fe4905273b3d467b8544ecfb29dade80": {
     "views": [
      {
       "cell_index": 13
      }
     ]
    }
   },
   "version": "1.2.0"
  }
 },
 "nbformat": 4,
 "nbformat_minor": 1
}
